{
  "cells": [
    {
      "cell_type": "code",
      "execution_count": 2,
      "metadata": {
        "id": "eLWh0x2lnUXA"
      },
      "outputs": [],
      "source": [
        "import matplotlib.pyplot as plt\n",
        "import pandas as pd"
      ]
    },
    {
      "cell_type": "code",
      "execution_count": 15,
      "metadata": {
        "colab": {
          "base_uri": "https://localhost:8080/",
          "height": 423
        },
        "id": "iHBeMck7oFTN",
        "outputId": "dbcc0213-0253-4640-80e1-afa794685244"
      },
      "outputs": [
        {
          "data": {
            "text/html": [
              "<div>\n",
              "<style scoped>\n",
              "    .dataframe tbody tr th:only-of-type {\n",
              "        vertical-align: middle;\n",
              "    }\n",
              "\n",
              "    .dataframe tbody tr th {\n",
              "        vertical-align: top;\n",
              "    }\n",
              "\n",
              "    .dataframe thead th {\n",
              "        text-align: right;\n",
              "    }\n",
              "</style>\n",
              "<table border=\"1\" class=\"dataframe\">\n",
              "  <thead>\n",
              "    <tr style=\"text-align: right;\">\n",
              "      <th></th>\n",
              "      <th>Timestep</th>\n",
              "      <th>num_fires</th>\n",
              "      <th>perc_ash</th>\n",
              "      <th>num_extinguished</th>\n",
              "      <th>perc_w_water</th>\n",
              "    </tr>\n",
              "  </thead>\n",
              "  <tbody>\n",
              "    <tr>\n",
              "      <th>0</th>\n",
              "      <td>1</td>\n",
              "      <td>0</td>\n",
              "      <td>0.000000</td>\n",
              "      <td>0</td>\n",
              "      <td>1.00</td>\n",
              "    </tr>\n",
              "    <tr>\n",
              "      <th>1</th>\n",
              "      <td>2</td>\n",
              "      <td>0</td>\n",
              "      <td>0.000000</td>\n",
              "      <td>0</td>\n",
              "      <td>1.00</td>\n",
              "    </tr>\n",
              "    <tr>\n",
              "      <th>2</th>\n",
              "      <td>3</td>\n",
              "      <td>0</td>\n",
              "      <td>0.000000</td>\n",
              "      <td>0</td>\n",
              "      <td>1.00</td>\n",
              "    </tr>\n",
              "    <tr>\n",
              "      <th>3</th>\n",
              "      <td>4</td>\n",
              "      <td>0</td>\n",
              "      <td>0.000000</td>\n",
              "      <td>0</td>\n",
              "      <td>1.00</td>\n",
              "    </tr>\n",
              "    <tr>\n",
              "      <th>4</th>\n",
              "      <td>5</td>\n",
              "      <td>0</td>\n",
              "      <td>0.000000</td>\n",
              "      <td>0</td>\n",
              "      <td>1.00</td>\n",
              "    </tr>\n",
              "    <tr>\n",
              "      <th>...</th>\n",
              "      <td>...</td>\n",
              "      <td>...</td>\n",
              "      <td>...</td>\n",
              "      <td>...</td>\n",
              "      <td>...</td>\n",
              "    </tr>\n",
              "    <tr>\n",
              "      <th>279</th>\n",
              "      <td>280</td>\n",
              "      <td>33</td>\n",
              "      <td>0.250000</td>\n",
              "      <td>333</td>\n",
              "      <td>0.76</td>\n",
              "    </tr>\n",
              "    <tr>\n",
              "      <th>280</th>\n",
              "      <td>281</td>\n",
              "      <td>32</td>\n",
              "      <td>0.253968</td>\n",
              "      <td>335</td>\n",
              "      <td>0.72</td>\n",
              "    </tr>\n",
              "    <tr>\n",
              "      <th>281</th>\n",
              "      <td>282</td>\n",
              "      <td>33</td>\n",
              "      <td>0.253968</td>\n",
              "      <td>335</td>\n",
              "      <td>0.72</td>\n",
              "    </tr>\n",
              "    <tr>\n",
              "      <th>282</th>\n",
              "      <td>283</td>\n",
              "      <td>33</td>\n",
              "      <td>0.253968</td>\n",
              "      <td>336</td>\n",
              "      <td>0.72</td>\n",
              "    </tr>\n",
              "    <tr>\n",
              "      <th>283</th>\n",
              "      <td>284</td>\n",
              "      <td>32</td>\n",
              "      <td>0.257937</td>\n",
              "      <td>337</td>\n",
              "      <td>0.76</td>\n",
              "    </tr>\n",
              "  </tbody>\n",
              "</table>\n",
              "<p>284 rows × 5 columns</p>\n",
              "</div>"
            ],
            "text/plain": [
              "     Timestep  num_fires  perc_ash  num_extinguished  perc_w_water\n",
              "0           1          0  0.000000                 0          1.00\n",
              "1           2          0  0.000000                 0          1.00\n",
              "2           3          0  0.000000                 0          1.00\n",
              "3           4          0  0.000000                 0          1.00\n",
              "4           5          0  0.000000                 0          1.00\n",
              "..        ...        ...       ...               ...           ...\n",
              "279       280         33  0.250000               333          0.76\n",
              "280       281         32  0.253968               335          0.72\n",
              "281       282         33  0.253968               335          0.72\n",
              "282       283         33  0.253968               336          0.72\n",
              "283       284         32  0.257937               337          0.76\n",
              "\n",
              "[284 rows x 5 columns]"
            ]
          },
          "execution_count": 15,
          "metadata": {},
          "output_type": "execute_result"
        }
      ],
      "source": [
        "df = pd.read_csv('fire_spread_output.csv')\n",
        "df"
      ]
    },
    {
      "cell_type": "code",
      "execution_count": 16,
      "metadata": {
        "colab": {
          "base_uri": "https://localhost:8080/",
          "height": 824
        },
        "id": "JCtw2-DvpFgi",
        "outputId": "af80c7e6-509d-4f50-cf5d-159fec6f18ee"
      },
      "outputs": [
        {
          "data": {
            "image/png": "[encoded data removed]",
            "text/plain": [
              "<Figure size 600x400 with 2 Axes>"
            ]
          },
          "metadata": {},
          "output_type": "display_data"
        }
      ],
      "source": [
        "# # Create a figure with four subplots\n",
        "# fig, axes = plt.subplots(nrows=4, ncols=1, figsize=(6, 8))\n",
        "\n",
        "# # Add data to the first subplot\n",
        "# axes[0].plot(df['Timestep'], df['num_fires'], color='red')\n",
        "# axes[0].set_ylabel('Number of Fires')\n",
        "\n",
        "# # Add data to the second subplot\n",
        "# axes[1].plot(df['Timestep'], df['perc_ash'], color='green')\n",
        "# axes[1].set_ylabel('Percentage of Ash')\n",
        "\n",
        "# # Add data to the third subplot\n",
        "# axes[2].plot(df['Timestep'], df['num_extinguished'], color='blue')\n",
        "# axes[2].set_ylabel('Number of Extinguished')\n",
        "\n",
        "# # Add data to the fourth subplot\n",
        "# axes[3].plot(df['Timestep'], df['perc_w_water'], color='purple')\n",
        "# axes[3].set_ylabel('Percentage with Water')\n",
        "\n",
        "# # Add x-axis label to all subplots\n",
        "# for ax in axes:\n",
        "#     ax.set_xlabel('Time Step')\n",
        "\n",
        "# # Adjust the layout to prevent overlapping labels\n",
        "# plt.tight_layout()\n",
        "\n",
        "# # Show the plots\n",
        "# plt.show()\n",
        "# plt.savefig('results.png')\n",
        "\n",
        "fig, ax1 = plt.subplots(figsize=(6, 4))\n",
        "\n",
        "# Plot number of fires on the first y-axis\n",
        "ax1.plot(df['Timestep'], df['num_fires'], color='red')\n",
        "ax1.set_ylabel('Number of Fires', color='red')\n",
        "ax1.tick_params(axis='y', labelcolor='red')\n",
        "\n",
        "# Create a second y-axis that shares the same x-axis as the first plot\n",
        "ax2 = ax1.twinx()\n",
        "\n",
        "# Plot percentage of ash on the second y-axis\n",
        "ax2.plot(df['Timestep'], df['perc_ash'], color='green')\n",
        "ax2.set_ylabel('Percentage of Ash', color='green')\n",
        "ax2.tick_params(axis='y', labelcolor='green')\n",
        "\n",
        "# Add x-axis label to the plot\n",
        "ax1.set_xlabel('Time Step')\n",
        "\n",
        "# Adjust the layout to prevent overlapping labels\n",
        "plt.tight_layout()\n",
        "\n",
        "# Show the plot\n",
        "plt.show()"
      ]
    }
  ],
  "metadata": {
    "colab": {
      "provenance": []
    },
    "kernelspec": {
      "display_name": "Python 3",
      "name": "python3"
    },
    "language_info": {
      "codemirror_mode": {
        "name": "ipython",
        "version": 3
      },
      "file_extension": ".py",
      "mimetype": "text/x-python",
      "name": "python",
      "nbconvert_exporter": "python",
      "pygments_lexer": "ipython3",
      "version": "3.11.2"
    }
  },
  "nbformat": 4,
  "nbformat_minor": 0
}
